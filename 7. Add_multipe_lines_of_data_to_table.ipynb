{
 "cells": [
  {
   "cell_type": "code",
   "execution_count": null,
   "id": "c19c7749",
   "metadata": {},
   "outputs": [],
   "source": [
    "import csv\n",
    "\n",
    "with open('glassdata.data','r') as f:\n",
    "    glass_data = csv.reader(f, delimiter ='\\n')\n",
    "    for i in glass_data:\n",
    "        print(type(i[0]))\n",
    "        print(f'insert into glass data value {i[0]}')\n",
    "        cursor.execute(f'insert into Rasul.glassdata values({i[0]})')\n",
    "                       \n",
    "mydb.commit()"
   ]
  },
  {
   "cell_type": "code",
   "execution_count": null,
   "id": "8b813413",
   "metadata": {},
   "outputs": [],
   "source": [
    "### Check \n",
    "\n",
    "cursor.execute('select * from Rasul.glassdata')\n",
    "cursor.fetchall()"
   ]
  }
 ],
 "metadata": {
  "kernelspec": {
   "display_name": "Python 3 (ipykernel)",
   "language": "python",
   "name": "python3"
  },
  "language_info": {
   "codemirror_mode": {
    "name": "ipython",
    "version": 3
   },
   "file_extension": ".py",
   "mimetype": "text/x-python",
   "name": "python",
   "nbconvert_exporter": "python",
   "pygments_lexer": "ipython3",
   "version": "3.9.13"
  }
 },
 "nbformat": 4,
 "nbformat_minor": 5
}
