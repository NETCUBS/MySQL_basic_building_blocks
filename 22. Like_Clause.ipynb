{
 "cells": [
  {
   "cell_type": "code",
   "execution_count": null,
   "id": "4206d87e",
   "metadata": {},
   "outputs": [],
   "source": [
    "## Like clause - ex.  Filter all rows have 1.515...  values\n",
    "\n",
    "cursor.execute(\"select * from rasul.glassdata where col2 like '1.515%'\") # (%.515%)\n",
    "cursor.fetchall()"
   ]
  }
 ],
 "metadata": {
  "kernelspec": {
   "display_name": "Python 3 (ipykernel)",
   "language": "python",
   "name": "python3"
  },
  "language_info": {
   "codemirror_mode": {
    "name": "ipython",
    "version": 3
   },
   "file_extension": ".py",
   "mimetype": "text/x-python",
   "name": "python",
   "nbconvert_exporter": "python",
   "pygments_lexer": "ipython3",
   "version": "3.9.13"
  }
 },
 "nbformat": 4,
 "nbformat_minor": 5
}
