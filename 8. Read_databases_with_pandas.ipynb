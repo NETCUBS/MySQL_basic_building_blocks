{
 "cells": [
  {
   "cell_type": "code",
   "execution_count": null,
   "id": "5312b2be",
   "metadata": {},
   "outputs": [],
   "source": [
    "import pandas as pd \n",
    "pd.read_sql(\"show databases\", mydb ) ## show databases"
   ]
  },
  {
   "cell_type": "code",
   "execution_count": null,
   "id": "4f51f4a8",
   "metadata": {},
   "outputs": [],
   "source": [
    "pd.read_sql(\"select * from Rasul.glassdata\", mydb ) # read the data table "
   ]
  }
 ],
 "metadata": {
  "kernelspec": {
   "display_name": "Python 3 (ipykernel)",
   "language": "python",
   "name": "python3"
  },
  "language_info": {
   "codemirror_mode": {
    "name": "ipython",
    "version": 3
   },
   "file_extension": ".py",
   "mimetype": "text/x-python",
   "name": "python",
   "nbconvert_exporter": "python",
   "pygments_lexer": "ipython3",
   "version": "3.9.13"
  }
 },
 "nbformat": 4,
 "nbformat_minor": 5
}
