{
 "cells": [
  {
   "cell_type": "code",
   "execution_count": null,
   "id": "68f68bd8",
   "metadata": {},
   "outputs": [],
   "source": [
    "cursor.execute(\"insert into Rasul.myfirst_table values(2, 'Rasul','Auunapriya', 1823, 'Engineering')\")\n",
    "mydb.commit()\n",
    "\n",
    "## Check the insertion \n",
    "\n",
    "cursor.execute('select * from Rasul.myfirst_table')\n",
    "cursor.fetchall()"
   ]
  }
 ],
 "metadata": {
  "kernelspec": {
   "display_name": "Python 3 (ipykernel)",
   "language": "python",
   "name": "python3"
  },
  "language_info": {
   "codemirror_mode": {
    "name": "ipython",
    "version": 3
   },
   "file_extension": ".py",
   "mimetype": "text/x-python",
   "name": "python",
   "nbconvert_exporter": "python",
   "pygments_lexer": "ipython3",
   "version": "3.9.13"
  }
 },
 "nbformat": 4,
 "nbformat_minor": 5
}
