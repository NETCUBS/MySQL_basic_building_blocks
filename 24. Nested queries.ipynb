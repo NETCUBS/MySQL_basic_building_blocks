{
 "cells": [
  {
   "cell_type": "code",
   "execution_count": null,
   "id": "1c6452b4",
   "metadata": {},
   "outputs": [],
   "source": [
    "cursor.execute(\"select * from (select * from rasul.glassdata where col1 > 112) as sudh where col11 = 3\")\n",
    "cursor.fetchall() \n"
   ]
  }
 ],
 "metadata": {
  "kernelspec": {
   "display_name": "Python 3 (ipykernel)",
   "language": "python",
   "name": "python3"
  },
  "language_info": {
   "codemirror_mode": {
    "name": "ipython",
    "version": 3
   },
   "file_extension": ".py",
   "mimetype": "text/x-python",
   "name": "python",
   "nbconvert_exporter": "python",
   "pygments_lexer": "ipython3",
   "version": "3.9.13"
  }
 },
 "nbformat": 4,
 "nbformat_minor": 5
}
