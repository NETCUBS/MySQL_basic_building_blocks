{
 "cells": [
  {
   "cell_type": "code",
   "execution_count": null,
   "id": "854afac2",
   "metadata": {},
   "outputs": [],
   "source": [
    "## Group by + Having\n",
    "cursor.execute(\"select count(col1), col11 from rasul.glassdata group by col11 having count(col1)>25\")\n",
    "cursor.fetchall()\n",
    "\n",
    "#[(74, 1), (76, 2), (29, 7)]"
   ]
  }
 ],
 "metadata": {
  "kernelspec": {
   "display_name": "Python 3 (ipykernel)",
   "language": "python",
   "name": "python3"
  },
  "language_info": {
   "codemirror_mode": {
    "name": "ipython",
    "version": 3
   },
   "file_extension": ".py",
   "mimetype": "text/x-python",
   "name": "python",
   "nbconvert_exporter": "python",
   "pygments_lexer": "ipython3",
   "version": "3.9.13"
  }
 },
 "nbformat": 4,
 "nbformat_minor": 5
}
