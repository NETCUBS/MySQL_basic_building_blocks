{
 "cells": [
  {
   "cell_type": "code",
   "execution_count": null,
   "id": "d8c79427",
   "metadata": {},
   "outputs": [],
   "source": [
    "cursor.execute('create table Rasul.glassdata(col1 INT(10), col2 float(10,5),col3 float(10,5),col4 float(10,5),col5 float(10,5),col6 float(10,5),col7 float(10,5),col8 float(10,5),col9 float(10,5),col10 float(10,5),col11 INT(10))')\n",
    "\n",
    "## Check the creation \n",
    "\n",
    "cursor.execute('use Rasul')\n",
    "cursor.execute('show tables')\n",
    "cursor.fetchall()"
   ]
  },
  {
   "cell_type": "code",
   "execution_count": null,
   "id": "c86e4472",
   "metadata": {},
   "outputs": [],
   "source": [
    "### ADD A Single line of data #####\n",
    "cursor.execute('insert into Rasul.glassdata values(1,1.52101,13.64,4.49,1.10,71.78,0.06,8.75,0.00,0.00,1)')\n",
    "mydb.commit()"
   ]
  },
  {
   "cell_type": "code",
   "execution_count": null,
   "id": "8704f8b1",
   "metadata": {},
   "outputs": [],
   "source": [
    "## Check the added data \n",
    "cursor.execute('select * from Rasul.glassdata')\n",
    "cursor.fetchall()\n"
   ]
  }
 ],
 "metadata": {
  "kernelspec": {
   "display_name": "Python 3 (ipykernel)",
   "language": "python",
   "name": "python3"
  },
  "language_info": {
   "codemirror_mode": {
    "name": "ipython",
    "version": 3
   },
   "file_extension": ".py",
   "mimetype": "text/x-python",
   "name": "python",
   "nbconvert_exporter": "python",
   "pygments_lexer": "ipython3",
   "version": "3.9.13"
  }
 },
 "nbformat": 4,
 "nbformat_minor": 5
}
