{
 "cells": [
  {
   "cell_type": "code",
   "execution_count": null,
   "id": "84adc185",
   "metadata": {},
   "outputs": [],
   "source": [
    "cursor = mydb.cursor()\n",
    "cursor.execute(\"create database Rasul\") # Create Database\n",
    "# Create the table\n",
    "cursor.execute(\"create table Rasul.myfirst_table(student_id INT(10),first_name VARCHAR(30),last_name VARCHAR(30),Reg_id INT(10),Class_name VARCHAR(30))\")\n",
    "\n",
    "\n",
    "## Check the tables \n",
    "cursor.execute(\"use Rasul\") # Select the databases\n",
    "cursor.execute(\"show tables\")  # Show the table \n",
    "cursor.fetchall() "
   ]
  }
 ],
 "metadata": {
  "kernelspec": {
   "display_name": "Python 3 (ipykernel)",
   "language": "python",
   "name": "python3"
  },
  "language_info": {
   "codemirror_mode": {
    "name": "ipython",
    "version": 3
   },
   "file_extension": ".py",
   "mimetype": "text/x-python",
   "name": "python",
   "nbconvert_exporter": "python",
   "pygments_lexer": "ipython3",
   "version": "3.9.13"
  }
 },
 "nbformat": 4,
 "nbformat_minor": 5
}
