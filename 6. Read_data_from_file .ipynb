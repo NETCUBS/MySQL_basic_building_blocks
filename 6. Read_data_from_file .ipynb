{
 "cells": [
  {
   "cell_type": "code",
   "execution_count": null,
   "id": "d9927190",
   "metadata": {},
   "outputs": [],
   "source": [
    "\n",
    "file = open(\"glassdata.data\", 'r')    # Open the glass data file \n",
    "file.read() # Read the glassdata file \n"
   ]
  },
  {
   "cell_type": "code",
   "execution_count": null,
   "id": "cc76fbc3",
   "metadata": {},
   "outputs": [],
   "source": [
    "### For reading the data one by one ###\n",
    "\n",
    "import csv\n",
    "\n",
    "with open('glassdata.data', 'r') as f:\n",
    "    glass_data = csv.reader(f , delimiter = '\\n')\n",
    "    print(glass_data)\n",
    "    for i in glass_data:\n",
    "        print(i)"
   ]
  }
 ],
 "metadata": {
  "kernelspec": {
   "display_name": "Python 3 (ipykernel)",
   "language": "python",
   "name": "python3"
  },
  "language_info": {
   "codemirror_mode": {
    "name": "ipython",
    "version": 3
   },
   "file_extension": ".py",
   "mimetype": "text/x-python",
   "name": "python",
   "nbconvert_exporter": "python",
   "pygments_lexer": "ipython3",
   "version": "3.9.13"
  }
 },
 "nbformat": 4,
 "nbformat_minor": 5
}
