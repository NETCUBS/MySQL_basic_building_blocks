{
 "cells": [
  {
   "cell_type": "code",
   "execution_count": null,
   "id": "da1e8577",
   "metadata": {},
   "outputs": [],
   "source": [
    "## Delete a table\n",
    "\n",
    "cursor.execute(\"drop table xxxx.xxxx\")\n",
    "mydb.commit()"
   ]
  }
 ],
 "metadata": {
  "kernelspec": {
   "display_name": "Python 3 (ipykernel)",
   "language": "python",
   "name": "python3"
  },
  "language_info": {
   "codemirror_mode": {
    "name": "ipython",
    "version": 3
   },
   "file_extension": ".py",
   "mimetype": "text/x-python",
   "name": "python",
   "nbconvert_exporter": "python",
   "pygments_lexer": "ipython3",
   "version": "3.9.13"
  }
 },
 "nbformat": 4,
 "nbformat_minor": 5
}
