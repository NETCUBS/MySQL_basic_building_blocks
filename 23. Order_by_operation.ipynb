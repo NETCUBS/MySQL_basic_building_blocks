{
 "cells": [
  {
   "cell_type": "code",
   "execution_count": null,
   "id": "55e4a12e",
   "metadata": {},
   "outputs": [],
   "source": [
    "## Order by operation - from lowest value to highest value in a particular column \n",
    "\n",
    "cursor.execute(\"select * from rasul.glassdata order by col2\")\n",
    "cursor.fetchall()\n",
    "\n",
    "## Order by operation - from highest value to lowest value in a particular column \n",
    "\n",
    "cursor.execute(\"select * from rasul.glassdata order by col2 desc\")\n",
    "cursor.fetchall() "
   ]
  }
 ],
 "metadata": {
  "kernelspec": {
   "display_name": "Python 3 (ipykernel)",
   "language": "python",
   "name": "python3"
  },
  "language_info": {
   "codemirror_mode": {
    "name": "ipython",
    "version": 3
   },
   "file_extension": ".py",
   "mimetype": "text/x-python",
   "name": "python",
   "nbconvert_exporter": "python",
   "pygments_lexer": "ipython3",
   "version": "3.9.13"
  }
 },
 "nbformat": 4,
 "nbformat_minor": 5
}
