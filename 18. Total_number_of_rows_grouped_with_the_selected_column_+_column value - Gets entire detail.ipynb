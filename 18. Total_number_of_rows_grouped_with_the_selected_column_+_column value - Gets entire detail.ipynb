{
 "cells": [
  {
   "cell_type": "code",
   "execution_count": null,
   "id": "c1c0821b",
   "metadata": {},
   "outputs": [],
   "source": [
    "## Total number of rows grouped with the selected column + column value - Gets entire detail \n",
    "cursor.execute(\"select count(*),col11 from rasul.glassdata group by col11\")\n",
    "cursor.fetchall()\n",
    "\n",
    "##[(74, 1), (76, 2), (17, 3), (13, 5), (9, 6), (29, 7)]"
   ]
  }
 ],
 "metadata": {
  "kernelspec": {
   "display_name": "Python 3 (ipykernel)",
   "language": "python",
   "name": "python3"
  },
  "language_info": {
   "codemirror_mode": {
    "name": "ipython",
    "version": 3
   },
   "file_extension": ".py",
   "mimetype": "text/x-python",
   "name": "python",
   "nbconvert_exporter": "python",
   "pygments_lexer": "ipython3",
   "version": "3.9.13"
  }
 },
 "nbformat": 4,
 "nbformat_minor": 5
}
