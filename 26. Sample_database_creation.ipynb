{
 "cells": [
  {
   "cell_type": "code",
   "execution_count": null,
   "id": "6f33884e",
   "metadata": {},
   "outputs": [],
   "source": [
    "import mysql.connector as conn\n",
    "mydb = conn.connect(host = \"localhost\", user = \"root\", passwd = \"Sanjaya@1983\")\n",
    "cursor = mydb.cursor()\n",
    "\n",
    "\n",
    "cursor = mydb.cursor()\n",
    "cursor.execute(\"create database cardataset\") # Create Database\n",
    "\n",
    "\n",
    "\n",
    "cursor.execute(\"create table cardataset.car2(buying VARCHAR(30),maint VARCHAR(30), doors VARCHAR(30), persons VARCHAR(10),lug_boot VARCHAR(30),safety VARCHAR(30),class VARCHAR(30))\")\n",
    "\n",
    "import csv\n",
    "\n",
    "with open('car.data','r') as f:\n",
    "    car_data = csv.reader(f, delimiter ='\\n')\n",
    "    for i in car_data:\n",
    "        string_list = i[0].split(\",\")\n",
    "        a = tuple(string_list)\n",
    "        #print(a)\n",
    "        #print(f'insert into cardataset.car1 values {a}')\n",
    "        cursor.execute(f'insert into cardataset.car2 values {a}')\n",
    "\n",
    "mydb.commit()\n",
    "\n",
    "import pandas as pd \n",
    "pd.read_sql(\"select * from cardataset.car2 \", mydb )"
   ]
  }
 ],
 "metadata": {
  "kernelspec": {
   "display_name": "Python 3 (ipykernel)",
   "language": "python",
   "name": "python3"
  },
  "language_info": {
   "codemirror_mode": {
    "name": "ipython",
    "version": 3
   },
   "file_extension": ".py",
   "mimetype": "text/x-python",
   "name": "python",
   "nbconvert_exporter": "python",
   "pygments_lexer": "ipython3",
   "version": "3.9.13"
  }
 },
 "nbformat": 4,
 "nbformat_minor": 5
}
