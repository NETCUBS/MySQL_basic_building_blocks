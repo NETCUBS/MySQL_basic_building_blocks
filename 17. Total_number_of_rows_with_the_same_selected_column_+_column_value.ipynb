{
 "cells": [
  {
   "cell_type": "code",
   "execution_count": null,
   "id": "f41f0a23",
   "metadata": {},
   "outputs": [],
   "source": [
    "## Total number of rows with the same selected column + column value \n",
    "\n",
    "cursor.execute(\"select count(*),col11 from rasul.glassdata where col11 = 1\")\n",
    "cursor.fetchall()\n",
    "\n",
    "\n",
    "##[(74, 1)]"
   ]
  }
 ],
 "metadata": {
  "kernelspec": {
   "display_name": "Python 3 (ipykernel)",
   "language": "python",
   "name": "python3"
  },
  "language_info": {
   "codemirror_mode": {
    "name": "ipython",
    "version": 3
   },
   "file_extension": ".py",
   "mimetype": "text/x-python",
   "name": "python",
   "nbconvert_exporter": "python",
   "pygments_lexer": "ipython3",
   "version": "3.9.13"
  }
 },
 "nbformat": 4,
 "nbformat_minor": 5
}
